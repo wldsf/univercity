{
  "nbformat": 4,
  "nbformat_minor": 0,
  "metadata": {
    "colab": {
      "provenance": [],
      "include_colab_link": true
    },
    "kernelspec": {
      "name": "python3",
      "display_name": "Python 3"
    },
    "language_info": {
      "name": "python"
    }
  },
  "cells": [
    {
      "cell_type": "markdown",
      "metadata": {
        "id": "view-in-github",
        "colab_type": "text"
      },
      "source": [
        "<a href=\"https://colab.research.google.com/github/wldsf/univercity/blob/main/tasks/%D0%94%D0%BE%D0%BF%D0%BE%D0%BB%D0%BD%D0%B8%D1%82%D0%B5%D0%BB%D1%8C%D0%BD%D0%BE%D0%B5_%D0%B7%D0%B0%D0%B4%D0%B0%D0%BD%D0%B8%D0%B5_%E2%84%962_1.ipynb\" target=\"_parent\"><img src=\"https://colab.research.google.com/assets/colab-badge.svg\" alt=\"Open In Colab\"/></a>"
      ]
    },
    {
      "cell_type": "markdown",
      "source": [
        "### **Дополнительное задание №2.1**"
      ],
      "metadata": {
        "id": "AFKOdzjAKWYc"
      }
    },
    {
      "cell_type": "markdown",
      "source": [
        "---\n",
        "\n",
        "**Пункт 1:**\n",
        "\n",
        "Напишите программу, которая принимает список строк, содержащих числа, и преобраует их в список целых чисел, возведённых в куб. Используйте функции `map()` и `lambda`.\n",
        "\n",
        "**Пример:**\n",
        "\n",
        "```python\n",
        "# Входные данные\n",
        "numbers = ['1', '2', '3', '4', '5']\n",
        "\n",
        "# Ожидаемый результат\n",
        "[1, 8, 27, 64, 125]\n",
        "```"
      ],
      "metadata": {
        "id": "qIQeFXOZKtlE"
      }
    },
    {
      "cell_type": "code",
      "source": [
        "numbers = ['1', '2', '3', '4', '5']\n",
        "rez = list(map(lambda x: int(x) ** 3, numbers))\n",
        "print(rez)"
      ],
      "metadata": {
        "id": "g4gpq3TwKus0",
        "colab": {
          "base_uri": "https://localhost:8080/"
        },
        "outputId": "82f736a5-adeb-49c6-c42d-4e39981b3f05"
      },
      "execution_count": null,
      "outputs": [
        {
          "output_type": "stream",
          "name": "stdout",
          "text": [
            "[1, 8, 27, 64, 125]\n"
          ]
        }
      ]
    },
    {
      "cell_type": "markdown",
      "source": [
        "---\n",
        "\n",
        "**Пункт 2:**\n",
        "\n",
        "Используя `filter()` и `lambda`, из списка слов отфильтруйте только те, которые начинаются и заканчиваются на одну и ту же букву.\n",
        "\n",
        "**Пример:**\n",
        "\n",
        "```python\n",
        "# Входные данные\n",
        "words = ['level', 'python', 'radar', 'world', 'rotor']\n",
        "\n",
        "# Ожидаемый результат\n",
        "['level', 'radar', 'rotor']\n",
        "```"
      ],
      "metadata": {
        "id": "L86Zyn5OK0FW"
      }
    },
    {
      "cell_type": "code",
      "source": [
        "words = ['level', 'python', 'radar', 'world', 'rotor']\n",
        "result = list(filter(lambda word: word[0].lower() == word[-1].lower(), words))\n",
        "print (result)"
      ],
      "metadata": {
        "id": "k0-9uu2iK45z",
        "colab": {
          "base_uri": "https://localhost:8080/"
        },
        "outputId": "b3623014-e3bb-4dc0-92c7-a6869de00b7d"
      },
      "execution_count": null,
      "outputs": [
        {
          "output_type": "stream",
          "name": "stdout",
          "text": [
            "['level', 'radar', 'rotor']\n"
          ]
        }
      ]
    },
    {
      "cell_type": "markdown",
      "source": [
        "---\n",
        "\n",
        "**Пункт 3:**\n",
        "\n",
        "С помощью `reduce()` и `lambda` найдите наибольшее число в списке чисел.\n",
        "\n",
        "**Подсказка:** Функция `reduce()` находится в модуле `functools`.\n",
        "\n",
        "**Пример:**\n",
        "\n",
        "```python\n",
        "# Входные данные\n",
        "numbers = [47, 11, 42, 102, 13]\n",
        "\n",
        "# Ожидаемый результат\n",
        "102\n",
        "```"
      ],
      "metadata": {
        "id": "ppIY_xrQK5ZT"
      }
    },
    {
      "cell_type": "code",
      "source": [
        "from functools import*\n",
        "numbers = [47, 11, 42, 102, 13]\n",
        "max_number = reduce(lambda x, y: x if x > y else y, numbers)\n",
        "print(max_number)"
      ],
      "metadata": {
        "id": "Gl9iHqHuK6Gp",
        "colab": {
          "base_uri": "https://localhost:8080/"
        },
        "outputId": "125964f1-2ac9-48b8-f966-ce5989df9394"
      },
      "execution_count": null,
      "outputs": [
        {
          "output_type": "stream",
          "name": "stdout",
          "text": [
            "102\n"
          ]
        }
      ]
    },
    {
      "cell_type": "markdown",
      "source": [
        "---\n",
        "\n",
        "**Пункт 4:**\n",
        "\n",
        "Объедините два списка чисел в один список кортежей, где каждый кортеж состоит из элементов исходных списков, возведённых в квадрат и куб соответственно. Используйте функции `map()`, `lambda` и `zip()`.\n",
        "\n",
        "**Пример:**\n",
        "\n",
        "```python\n",
        "# Входные данные\n",
        "list1 = [1, 2, 3]\n",
        "list2 = [4, 5, 6]\n",
        "\n",
        "# Ожидаемый результат\n",
        "[(1, 64), (4, 125), (9, 216)]\n",
        "```"
      ],
      "metadata": {
        "id": "J_wCDrsHK8Rr"
      }
    },
    {
      "cell_type": "code",
      "source": [
        "list1 = [1, 2, 3]\n",
        "list2 = [4, 5, 6]\n",
        "itog = list(zip(map(lambda x: x ** 2, list1), map(lambda x: x ** 3, list2)))\n",
        "itog"
      ],
      "metadata": {
        "id": "D9mval4GK9PB",
        "colab": {
          "base_uri": "https://localhost:8080/"
        },
        "outputId": "fcc3548b-dfc9-4490-88bf-fd84146435f7"
      },
      "execution_count": null,
      "outputs": [
        {
          "output_type": "execute_result",
          "data": {
            "text/plain": [
              "[(1, 64), (4, 125), (9, 216)]"
            ]
          },
          "metadata": {},
          "execution_count": 9
        }
      ]
    },
    {
      "cell_type": "markdown",
      "source": [
        "---\n",
        "\n",
        "**Пункт 5:**\n",
        "\n",
        "Напишите программу, которая принимает строку с целыми числами, разделёнными запятыми, и вычисляет сумму чётных чисел из этой строки. Используйте функции `map()`, `filter()`, `lambda` и `reduce()`.\n",
        "\n",
        "**Пример:**\n",
        "\n",
        "```python\n",
        "# Входные данные\n",
        "numbers = '1,2,3,4,5,6,7,8,9,10'\n",
        "\n",
        "# Ожидаемый результат\n",
        "30  # (2 + 4 + 6 + 8 + 10)\n",
        "```"
      ],
      "metadata": {
        "id": "6S0zCchALAAc"
      }
    },
    {
      "cell_type": "code",
      "source": [
        "from functools import reduce\n",
        "numbers = '1,2,3,4,5,6,7,8,9,10'\n",
        "\n",
        "result = reduce(lambda x, y: x + y,\n",
        "               filter(lambda x: x % 2 == 0,\n",
        "                     map(int, numbers.split(','))))\n",
        "\n",
        "print(result)"
      ],
      "metadata": {
        "id": "GSxOpO5CLDN2",
        "colab": {
          "base_uri": "https://localhost:8080/"
        },
        "outputId": "3719fed2-6c7e-4382-d936-089631607853"
      },
      "execution_count": 10,
      "outputs": [
        {
          "output_type": "stream",
          "name": "stdout",
          "text": [
            "30\n"
          ]
        }
      ]
    },
    {
      "cell_type": "markdown",
      "source": [
        "\n",
        "---\n",
        "\n",
        "**Пункт 6:**\n",
        "\n",
        "Используя `map()` и `lambda`, преобрауйте список температур в граусах Цельсия в список температур в граусах Фаренгейта. Формула преобраования: F = C * 9/5 + 32.\n",
        "\n",
        "**Пример:**\n",
        "\n",
        "```python\n",
        "# Входные данные\n",
        "celsius = [0, 15, 30, 100]\n",
        "\n",
        "# Ожидаемый результат\n",
        "[32.0, 59.0, 86.0, 212.0]\n",
        "```"
      ],
      "metadata": {
        "id": "XnZG4q22LCSU"
      }
    },
    {
      "cell_type": "code",
      "source": [
        "celsius = [0, 15, 30, 100]\n",
        "rez = list(map(lambda x: x*(9/5)+32, celsius))\n",
        "print(rez)"
      ],
      "metadata": {
        "id": "A03mTrhNLC06",
        "colab": {
          "base_uri": "https://localhost:8080/"
        },
        "outputId": "978ae105-2e6f-46fb-dbe3-f1d5d6ed547f"
      },
      "execution_count": 14,
      "outputs": [
        {
          "output_type": "stream",
          "name": "stdout",
          "text": [
            "[32.0, 59.0, 86.0, 212.0]\n"
          ]
        }
      ]
    },
    {
      "cell_type": "markdown",
      "source": [
        "---\n",
        "\n",
        "**Пункт 7:**\n",
        "\n",
        "У вас есть список чисел. Используя комбинацию функций `filter()`, `map()` и `lambda`, получите новый список, содержащий квадраты нечётных чисел из исходного списка.\n",
        "\n",
        "**Пример:**\n",
        "\n",
        "```python\n",
        "# Входные данные\n",
        "numbers = [1, 2, 3, 4, 5, 6, 7, 8, 9]\n",
        "\n",
        "# Ожидаемый результат\n",
        "[1, 9, 25, 49, 81]\n",
        "```\n",
        "\n"
      ],
      "metadata": {
        "id": "r-fsnwuhLFXg"
      }
    },
    {
      "cell_type": "code",
      "source": [
        "numbers = [1, 2, 3, 4, 5, 6, 7, 8, 9]\n",
        "rez = list(filter(lambda x: x % 2 != 0, map(lambda x: x**2, numbers)))\n",
        "print(rez)"
      ],
      "metadata": {
        "id": "ZV0oNPqlLose",
        "colab": {
          "base_uri": "https://localhost:8080/"
        },
        "outputId": "abfbaa58-cb3f-4058-c983-5c3bd0c4f51f"
      },
      "execution_count": 16,
      "outputs": [
        {
          "output_type": "stream",
          "name": "stdout",
          "text": [
            "[1, 9, 25, 49, 81]\n"
          ]
        }
      ]
    },
    {
      "cell_type": "markdown",
      "source": [
        "---\n",
        "**Пункт 8:**\n",
        "\n",
        "С помощью функции `reduce()` и `lambda` вычислите произведение всех чисел в списке.\n",
        "\n",
        "**Пример:**\n",
        "\n",
        "```python\n",
        "# Входные данные\n",
        "numbers = [1, 2, 3, 4, 5]\n",
        "\n",
        "# Ожидаемый результат\n",
        "120  # (1 * 2 * 3 * 4 * 5)\n",
        "```"
      ],
      "metadata": {
        "id": "Rvn8FWnmLHOP"
      }
    },
    {
      "cell_type": "code",
      "source": [
        "from functools import reduce\n",
        "\n",
        "numbers = [1, 2, 3, 4, 5]\n",
        "rez = reduce(lambda x, y: x * y, numbers)\n",
        "print(rez)"
      ],
      "metadata": {
        "id": "_J-9EEJwLJk-",
        "colab": {
          "base_uri": "https://localhost:8080/"
        },
        "outputId": "592c4e38-75eb-4b3c-da87-f8834eade054"
      },
      "execution_count": 17,
      "outputs": [
        {
          "output_type": "stream",
          "name": "stdout",
          "text": [
            "120\n"
          ]
        }
      ]
    },
    {
      "cell_type": "markdown",
      "source": [
        "---\n",
        "\n",
        "**Пункт 9:**\n",
        "\n",
        "Дан список строковых представлений чисел. Используя `map()`, `lambda` и метод строки `isdigit()`, преобразуйте список, заменив нечисловые строки на число 0.\n",
        "\n",
        "**Пример:**\n",
        "\n",
        "```python\n",
        "# Входные данные\n",
        "strings = ['10', '20', 'abc', '30', 'def']\n",
        "\n",
        "# Ожидаемый результат\n",
        "[10, 20, 0, 30, 0]\n",
        "```"
      ],
      "metadata": {
        "id": "_BXHdCrfLJtd"
      }
    },
    {
      "cell_type": "code",
      "source": [
        "strings = ['10', '20', 'abc', '30', 'def']\n",
        "rez = list(map(lambda x: int(x) if x.isdigit() else 0, strings))\n",
        "print(rez)"
      ],
      "metadata": {
        "id": "uOLoUIMmLLwG",
        "colab": {
          "base_uri": "https://localhost:8080/"
        },
        "outputId": "99ed4879-5435-49a7-def0-cf3df89347b4"
      },
      "execution_count": 19,
      "outputs": [
        {
          "output_type": "stream",
          "name": "stdout",
          "text": [
            "[10, 20, 0, 30, 0]\n"
          ]
        }
      ]
    },
    {
      "cell_type": "markdown",
      "source": [
        "---\n",
        "\n",
        "**Пункт 10:**\n",
        "\n",
        "Есть два списка координат X и Y одинаковой длины. Используя `zip()` и `lambda`, объедините их в список точек — кортежей `(x, y)`.\n",
        "\n",
        "**Пример:**\n",
        "\n",
        "```python\n",
        "# Входные данные\n",
        "x_coords = [1, 2, 3]\n",
        "y_coords = [4, 5, 6]\n",
        "\n",
        "# Ожидаемый результат\n",
        "[(1, 4), (2, 5), (3, 6)]\n",
        "```"
      ],
      "metadata": {
        "id": "DovAPjnhLL3i"
      }
    },
    {
      "cell_type": "code",
      "source": [
        "x_coords = [1, 2, 3]\n",
        "y_coords = [4, 5, 6]\n",
        "result = list(map(lambda x: (x[0], x[1]), zip(x_coords, y_coords)))\n",
        "print(result)"
      ],
      "metadata": {
        "id": "BhyGHMK4LPey",
        "colab": {
          "base_uri": "https://localhost:8080/"
        },
        "outputId": "8cc31ee4-19ed-4cc7-8e13-95c266d716d6"
      },
      "execution_count": 1,
      "outputs": [
        {
          "output_type": "stream",
          "name": "stdout",
          "text": [
            "[(1, 4), (2, 5), (3, 6)]\n"
          ]
        }
      ]
    },
    {
      "cell_type": "markdown",
      "source": [
        "---\n",
        "\n",
        "**Пункт 11:**\n",
        "\n",
        "Напишите программу, которая принимает список слов и возвращает словарь, где ключами являются слова, а значениями — длины этих слов. Используйте `map()` и `lambda`.\n",
        "\n",
        "**Пример:**\n",
        "\n",
        "```python\n",
        "# Входные данные\n",
        "words = ['apple', 'banana', 'cherry']\n",
        "\n",
        "# Ожидаемый результат\n",
        "{'apple': 5, 'banana': 6, 'cherry': 6}\n",
        "```"
      ],
      "metadata": {
        "id": "56GJYuVCLOrF"
      }
    },
    {
      "cell_type": "code",
      "source": [
        "words = ['apple', 'banana', 'cherry']\n",
        "result = dict(map(lambda word: (word, len(word)), words))\n",
        "print(result)"
      ],
      "metadata": {
        "id": "8dSc6w2DLS72",
        "colab": {
          "base_uri": "https://localhost:8080/"
        },
        "outputId": "cd3dfa99-0532-4634-9343-e987f73cb988"
      },
      "execution_count": 2,
      "outputs": [
        {
          "output_type": "stream",
          "name": "stdout",
          "text": [
            "{'apple': 5, 'banana': 6, 'cherry': 6}\n"
          ]
        }
      ]
    },
    {
      "cell_type": "markdown",
      "source": [
        "---\n",
        "\n",
        "**Пункт 12:**\n",
        "\n",
        "Используя `filter()` и `lambda`, из списка чисел оставьте только простые числа.\n",
        "\n",
        "**Пример:**\n",
        "\n",
        "```python\n",
        "# Входные данные\n",
        "numbers = [2, 3, 4, 5, 6, 7, 8, 9, 10]\n",
        "\n",
        "# Ожидаемый результат\n",
        "[2, 3, 5, 7]\n",
        "```\n",
        "\n",
        "*Подсказка:* Для проверки числа на простоту может понадобиться дополнительная функция.\n"
      ],
      "metadata": {
        "id": "HJ3Yi_p1LRvV"
      }
    },
    {
      "cell_type": "code",
      "source": [
        "def is_prime(n):\n",
        "    if n < 2:\n",
        "        return False\n",
        "    for i in range(2, int(n**0.5) + 1):\n",
        "        if n % i == 0:\n",
        "            return False\n",
        "    return True\n",
        "numbers = [2, 3, 4, 5, 6, 7, 8, 9, 10]\n",
        "rez = list(filter(lambda x: is_prime(x), numbers))\n",
        "print(rez)"
      ],
      "metadata": {
        "id": "EiXmhVh0LSks",
        "colab": {
          "base_uri": "https://localhost:8080/"
        },
        "outputId": "82998ca3-edc1-41bd-b4ee-2032402e86b9"
      },
      "execution_count": 1,
      "outputs": [
        {
          "output_type": "stream",
          "name": "stdout",
          "text": [
            "[2, 3, 5, 7]\n"
          ]
        }
      ]
    },
    {
      "cell_type": "markdown",
      "source": [
        "---\n",
        "**Пункт 13:**\n",
        "\n",
        "Объедините три списка чисел в один список сумм соответствующих элементов. Используйте `map()`, `lambda` и `zip()`.\n",
        "\n",
        "**Пример:**\n",
        "\n",
        "```python\n",
        "# Входные данные\n",
        "list1 = [1, 2, 3]\n",
        "list2 = [4, 5, 6]\n",
        "list3 = [7, 8, 9]\n",
        "\n",
        "# Ожидаемый результат\n",
        "[12, 15, 18]  # (1+4+7, 2+5+8, 3+6+9)\n",
        "```"
      ],
      "metadata": {
        "id": "3ypTpW-hLWCv"
      }
    },
    {
      "cell_type": "code",
      "source": [
        "list1 = [1, 2, 3]\n",
        "list2 = [4, 5, 6]\n",
        "list3 = [7, 8, 9]\n",
        "rez = list((map(lambda x: sum(x), zip(list1, list2, list3))))\n",
        "print(rez)"
      ],
      "metadata": {
        "id": "QK69qMn-LYig",
        "colab": {
          "base_uri": "https://localhost:8080/"
        },
        "outputId": "f146128a-4d5d-4d59-e640-c0616f04fccf"
      },
      "execution_count": 5,
      "outputs": [
        {
          "metadata": {
            "tags": null
          },
          "name": "stdout",
          "output_type": "stream",
          "text": [
            "[12, 15, 18]\n"
          ]
        }
      ]
    },
    {
      "cell_type": "markdown",
      "source": [
        "---\n",
        "\n",
        "**Пункт 14:**\n",
        "\n",
        "С помощью `reduce()` и `lambda` подсчитайте количество появлений каждого символа в строке (без учета регистра), и выведите символ, который встречается чаще всего.\n",
        "\n",
        "**Пример:**\n",
        "\n",
        "```python\n",
        "# Входные данные\n",
        "text = 'Functional programming with lambda functions'\n",
        "\n",
        "# Ожидаемый результат\n",
        "'n'  # n встречается чаще всего\n",
        "```\n",
        "\n",
        "*Подсказка:* Возможно, понадобится преобразовать строку в список символов и использовать словарь для подсчета."
      ],
      "metadata": {
        "id": "ux8lk6DULYrL"
      }
    },
    {
      "cell_type": "code",
      "source": [
        "from functools import reduce\n",
        "text = 'Functional programming with lambda functions'\n",
        "t = list(text.lower())\n",
        "count = reduce(lambda count_dict, char: {**count_dict, char: count_dict.get(char, 0) + 1},\n",
        "    t,{})\n",
        "most = reduce(\n",
        "    lambda a, b: a if count[a] > count[b] else b, count.keys())\n",
        "\n",
        "print(f\"Самый частый символ: '{most}'\")"
      ],
      "metadata": {
        "colab": {
          "base_uri": "https://localhost:8080/"
        },
        "id": "mPnGEUhwKU94",
        "outputId": "cf6b4064-a66f-445f-e2d2-bc2a79c57aed"
      },
      "execution_count": 13,
      "outputs": [
        {
          "output_type": "stream",
          "name": "stdout",
          "text": [
            "Самый частый символ: 'n'\n"
          ]
        }
      ]
    },
    {
      "cell_type": "markdown",
      "source": [
        "---\n",
        "\n",
        "**Пункт 15:**\n",
        "\n",
        "Используя `map()`, `filter()`, `reduce()` и `lambda`, из заданного списка слов найдите общее количество гласных букв.\n",
        "\n",
        "**Пример:**\n",
        "\n",
        "```python\n",
        "# Входные данные\n",
        "words = ['python', 'lambda', 'functions', 'map', 'filter', 'reduce']\n",
        "\n",
        "# Ожидаемый результат\n",
        "13\n",
        "```\n",
        "\n",
        "*Подсказка:* Гласные буквы — 'a', 'e', 'i', 'o', 'u'."
      ],
      "metadata": {
        "id": "VFm4NoORKNEV"
      }
    },
    {
      "cell_type": "code",
      "source": [
        "from functools import reduce\n",
        "words = ['python', 'lambda', 'functions', 'map', 'filter', 'reduce']\n",
        "vowels = 'aeiouy'\n",
        "a = reduce(lambda x, y: x + y,\n",
        "                map(lambda word: len(list(filter(lambda c: c in vowels, word))),\n",
        "                    words))\n",
        "print(a)"
      ],
      "metadata": {
        "id": "QGrZe4tWLiYW",
        "colab": {
          "base_uri": "https://localhost:8080/"
        },
        "outputId": "de78b15f-46c8-400c-d695-8d8cf87969ed"
      },
      "execution_count": 1,
      "outputs": [
        {
          "output_type": "stream",
          "name": "stdout",
          "text": [
            "13\n"
          ]
        }
      ]
    },
    {
      "cell_type": "markdown",
      "source": [
        "---"
      ],
      "metadata": {
        "id": "9xSbH7rdM4MS"
      }
    }
  ]
}