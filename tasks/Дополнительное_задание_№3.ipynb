{
  "cells": [
    {
      "cell_type": "markdown",
      "metadata": {
        "id": "view-in-github",
        "colab_type": "text"
      },
      "source": [
        "<a href=\"https://colab.research.google.com/github/wldsf/univercity/blob/main/tasks/%D0%94%D0%BE%D0%BF%D0%BE%D0%BB%D0%BD%D0%B8%D1%82%D0%B5%D0%BB%D1%8C%D0%BD%D0%BE%D0%B5_%D0%B7%D0%B0%D0%B4%D0%B0%D0%BD%D0%B8%D0%B5_%E2%84%963.ipynb\" target=\"_parent\"><img src=\"https://colab.research.google.com/assets/colab-badge.svg\" alt=\"Open In Colab\"/></a>"
      ]
    },
    {
      "cell_type": "markdown",
      "id": "bb332bf9",
      "metadata": {
        "id": "bb332bf9"
      },
      "source": [
        "# **Дополнительное задание №3. Обработка исключений и работа с текстовыми файлами**"
      ]
    },
    {
      "cell_type": "markdown",
      "id": "aa6808db",
      "metadata": {
        "id": "aa6808db"
      },
      "source": [
        "**БАЗА:**\n",
        "\n",
        "- **Обработка исключений** позволяет перехватывать и обрабатывать ошибки, возникающие при выполнении программы, предотвращая её аварийное завершение.\n",
        "- **Работа с файлами** - важный навык для чтения, записи и обработки текстовой информации в Python.\n",
        "\n",
        "---"
      ]
    },
    {
      "cell_type": "markdown",
      "id": "2478deca",
      "metadata": {
        "id": "2478deca"
      },
      "source": [
        "## **I. Обработка исключений**"
      ]
    },
    {
      "cell_type": "markdown",
      "id": "0ab0b851",
      "metadata": {
        "id": "0ab0b851"
      },
      "source": [
        "### **Пункт №1. Обработка некорректного индекса (IndexError)**"
      ]
    },
    {
      "cell_type": "markdown",
      "id": "46e69e1f",
      "metadata": {
        "id": "46e69e1f"
      },
      "source": [
        "Создайте список из нескольких элементов (например, [10, 20, 30]). Попросите пользователя ввести индекс элемента, который нужно вывести. Если пользователь введёт индекс, выходящий за границы списка, перехватите IndexError и сообщите об этом.\n",
        "\n",
        "**ОБЯЗАТЕЛЬНО:**\n",
        "- Создайте список из минимум 5 элементов\n",
        "- Покажите содержимое списка перед работой\n",
        "- Протестируйте минимум 4 случая (корректный индекс, отрицательный, слишком большой, нечисловое значение)"
      ]
    },
    {
      "cell_type": "code",
      "execution_count": 1,
      "metadata": {
        "id": "e893ba78",
        "colab": {
          "base_uri": "https://localhost:8080/"
        },
        "outputId": "5dfbfb65-1590-4006-92cc-d973820afdaa"
      },
      "outputs": [
        {
          "output_type": "stream",
          "name": "stdout",
          "text": [
            "введите индекс: 4\n",
            "элемент под индексом: 50\n",
            "всё работает :)\n"
          ]
        }
      ],
      "source": [
        "try:\n",
        "    a = [10,20,30,40,50,60,70,80,90,100]\n",
        "    v = int(input(\"введите индекс: \"))\n",
        "    print(\"элемент под индексом:\", a[v])\n",
        "except IndexError:\n",
        "  if v > 0:\n",
        "    print(f\"Ошибка: индекс выходит за границы списка, граница: {len(a)-1}\")\n",
        "  else:\n",
        "    print(f\"Ошибка: отрицательный индекс выходит за границы списка, граница: -{len(a)}\")\n",
        "except ValueError:\n",
        "    print(\"Ошибка: Введите корректное число!\")\n",
        "print(\"всё работает :)\")\n"
      ],
      "id": "e893ba78"
    },
    {
      "cell_type": "markdown",
      "id": "7ac84eec",
      "metadata": {
        "id": "7ac84eec"
      },
      "source": [
        "---"
      ]
    },
    {
      "cell_type": "code",
      "execution_count": 2,
      "metadata": {
        "colab": {
          "base_uri": "https://localhost:8080/"
        },
        "outputId": "d3ac3c4f-17c8-40bf-8d75-972fcbfbd88f",
        "id": "VB3nWLB6J_z1"
      },
      "outputs": [
        {
          "output_type": "stream",
          "name": "stdout",
          "text": [
            "введите индекс: иыиаыр\n",
            "Ошибка: Введите корректное число!\n",
            "всё работает :)\n"
          ]
        }
      ],
      "source": [
        "try:\n",
        "    a = [10,20,30,40,50,60,70,80,90,100]\n",
        "    v = int(input(\"введите индекс: \"))\n",
        "    print(\"элемент под индексом:\", a[v])\n",
        "except IndexError:\n",
        "  if v > 0:\n",
        "    print(f\"Ошибка: индекс выходит за границы списка, граница: {len(a)-1}\")\n",
        "  else:\n",
        "    print(f\"Ошибка: отрицательный индекс выходит за границы списка, граница: -{len(a)}\")\n",
        "except ValueError:\n",
        "    print(\"Ошибка: Введите корректное число!\")\n",
        "print(\"всё работает :)\")\n"
      ],
      "id": "VB3nWLB6J_z1"
    },
    {
      "cell_type": "code",
      "execution_count": 11,
      "metadata": {
        "colab": {
          "base_uri": "https://localhost:8080/"
        },
        "outputId": "e449a528-9846-4ad5-c23b-89fc94d4d441",
        "id": "DHu_uq4ZKFTj"
      },
      "outputs": [
        {
          "output_type": "stream",
          "name": "stdout",
          "text": [
            "введите индекс: -19328\n",
            "Ошибка: отрицательный индекс выходит за границы списка, граница: -10\n",
            "всё работает :)\n"
          ]
        }
      ],
      "source": [
        "try:\n",
        "    a = [10,20,30,40,50,60,70,80,90,100]\n",
        "    v = int(input(\"введите индекс: \"))\n",
        "    print(\"элемент под индексом:\", a[v])\n",
        "except IndexError:\n",
        "  if v > 0:\n",
        "    print(f\"Ошибка: индекс выходит за границы списка, граница: {len(a)-1}\")\n",
        "  else:\n",
        "    print(f\"Ошибка: отрицательный индекс выходит за границы списка, граница: -{len(a)}\")\n",
        "except ValueError:\n",
        "    print(\"Ошибка: Введите корректное число!\")\n",
        "print(\"всё работает :)\")\n"
      ],
      "id": "DHu_uq4ZKFTj"
    },
    {
      "cell_type": "code",
      "source": [
        "try:\n",
        "    a = [10,20,30,40,50,60,70,80,90,100]\n",
        "    v = int(input(\"введите индекс: \"))\n",
        "    print(\"элемент под индексом:\", a[v])\n",
        "except IndexError:\n",
        "  if v > 0:\n",
        "    print(f\"Ошибка: индекс выходит за границы списка, граница: {len(a)-1}\")\n",
        "  else:\n",
        "    print(f\"Ошибка: отрицательный индекс выходит за границы списка, граница: -{len(a)}\")\n",
        "except ValueError:\n",
        "    print(\"Ошибка: Введите корректное число!\")\n",
        "print(\"всё работает :)\")\n"
      ],
      "metadata": {
        "colab": {
          "base_uri": "https://localhost:8080/"
        },
        "outputId": "26b857f3-4adf-4a1d-e4c8-f1dc0cb1476f",
        "id": "Idyq_2-TUs8f"
      },
      "execution_count": null,
      "outputs": [
        {
          "output_type": "stream",
          "name": "stdout",
          "text": [
            "введите индекс: 3827\n",
            "Ошибка: индекс выходит за границы списка, граница: 9\n",
            "всё работает :)\n"
          ]
        }
      ],
      "id": "Idyq_2-TUs8f"
    },
    {
      "cell_type": "markdown",
      "id": "f8bfb6e1",
      "metadata": {
        "id": "f8bfb6e1"
      },
      "source": [
        "### **Пункт №2. Обработка исключений в цикле**"
      ]
    },
    {
      "cell_type": "markdown",
      "id": "63c3b706",
      "metadata": {
        "id": "63c3b706"
      },
      "source": [
        "Напишите программу, которая запрашивает у пользователя числа и добавляет их в список.\n",
        "- Если пользователь вводит некорректные данные, программа должна выводить сообщение об ошибке и продолжать работу.\n",
        "- Для выхода из программы пользователь должен ввести \"стоп\".\n",
        "\n",
        "**ОБЯЗАТЕЛЬНО:**\n",
        "- Покажите процесс ввода минимум 7 значений (включая ошибочные)\n",
        "- Выведите финальный список и статистику (сколько чисел введено успешно, сколько ошибок)"
      ]
    },
    {
      "cell_type": "markdown",
      "source": [
        "\n",
        "\n",
        "```\n",
        "# Пример:\n",
        "# Введите число: 10\n",
        "# Введите число: текст (Ошибка: это не число)\n",
        "# Введите число: стоп\n",
        "# Итоговый список: [10]\n",
        "```\n",
        "\n"
      ],
      "metadata": {
        "id": "aiWaEPOuoHDS"
      },
      "id": "aiWaEPOuoHDS"
    },
    {
      "cell_type": "code",
      "execution_count": 7,
      "id": "31448e09",
      "metadata": {
        "id": "31448e09",
        "colab": {
          "base_uri": "https://localhost:8080/"
        },
        "outputId": "4ec97d25-bef5-48a9-f7fb-3a7d5f4271c1"
      },
      "outputs": [
        {
          "output_type": "stream",
          "name": "stdout",
          "text": [
            "Программа для ввода чисел (для выхода введите 'стоп')\n",
            "Введите число: 30\n",
            "Введите число: 20\n",
            "Введите число: dfkd\n",
            "Ошибка: 'dfkd' - это не число\n",
            "Введите число: 743\n",
            "Введите число: стоп\n",
            "Итоговый список: [30.0, 20.0, 743.0]\n",
            "Успешно введено чисел: 3\n",
            "Количество ошибок: 1\n",
            "Всего попыток ввода: 4\n"
          ]
        }
      ],
      "source": [
        "print(\"Программа для ввода чисел (для выхода введите 'стоп')\")\n",
        "def osn():\n",
        "  num = []\n",
        "  n = 0\n",
        "  o = 0\n",
        "  while True:\n",
        "    v = input(\"Введите число: \")\n",
        "    if v.lower() == 'стоп':\n",
        "      break\n",
        "    try:\n",
        "      number = float(v)\n",
        "      num.append(number)\n",
        "      n += 1\n",
        "    except ValueError:\n",
        "      print(f\"Ошибка: '{v}' - это не число\")\n",
        "      o += 1\n",
        "  print(f\"Итоговый список: {num}\")\n",
        "  print(f\"Успешно введено чисел: {n}\")\n",
        "  print(f\"Количество ошибок: {o}\")\n",
        "  print(f\"Всего попыток ввода: {n + o}\")\n",
        "\n",
        "osn()"
      ]
    },
    {
      "cell_type": "markdown",
      "metadata": {
        "id": "Yv-FNYTEp0vV"
      },
      "source": [
        "---"
      ],
      "id": "Yv-FNYTEp0vV"
    },
    {
      "cell_type": "markdown",
      "id": "5971f85d",
      "metadata": {
        "id": "5971f85d"
      },
      "source": [
        "### **Пункт №3**"
      ]
    },
    {
      "cell_type": "markdown",
      "id": "b1457074",
      "metadata": {
        "id": "b1457074"
      },
      "source": [
        "Создайте функцию `get_list_element(lst, index)`, которая безопасно извлекает элемент списка по индексу с использованием блоков `try`, `except`, `else` и `finally`.\n",
        "\n",
        "Функция должна:\n",
        "- Обрабатывать выход за пределы списка\n",
        "- Обрабатывать некорректный тип индекса\n",
        "- Выводить сообщение о попытке доступа в блоке `finally`\n",
        "\n",
        "**ОБЯЗАТЕЛЬНО:**\n",
        "- Выведите результаты для минимум 4 различных случаев (успешный доступ, выход за границы, отрицательный индекс, нечисловой индекс)\n",
        "- Покажите, что блок `finally` выполняется всегда\n",
        "\n",
        "```python\n",
        "# Пример использования:\n",
        "my_list = [1, 2, 3, 4, 5]\n",
        "get_list_element(my_list, 2)   # Вывод: \"Элемент: 3\", \"Попытка доступа завершена\"\n",
        "get_list_element(my_list, 10)  # Вывод: \"Индекс вне диапазона\", \"Попытка доступа завершена\"\n",
        "```"
      ]
    },
    {
      "cell_type": "code",
      "execution_count": 21,
      "id": "1c067cf3",
      "metadata": {
        "id": "1c067cf3",
        "colab": {
          "base_uri": "https://localhost:8080/"
        },
        "outputId": "97e79bcf-2e4c-4558-ab50-f3ccf1bb1dba"
      },
      "outputs": [
        {
          "output_type": "stream",
          "name": "stdout",
          "text": [
            "Элемент: 3\n",
            "Попытка доступа завершена\n",
            "Индекс вне диапазона\n",
            "Попытка доступа завершена\n",
            "Элемент: 4\n",
            "Попытка доступа завершена\n",
            "Ошибка: Введите корректное число!\n",
            "Попытка доступа завершена\n"
          ]
        }
      ],
      "source": [
        "def get_list_element(lst, index):\n",
        "  try:\n",
        "    rez = lst[index]\n",
        "  except IndexError:\n",
        "    if v > 0:\n",
        "      print(\"Индекс вне диапазона\")\n",
        "    else:\n",
        "      print(\"Индекс вне диапазона\")\n",
        "  except TypeError:\n",
        "    print(\"Ошибка: Введите корректное число!\")\n",
        "  else:\n",
        "    print(f\"Элемент: {rez}\")\n",
        "  finally:\n",
        "    print(\"Попытка доступа завершена\")\n",
        "my_list = [1, 2, 3, 4, 5]\n",
        "get_list_element(my_list, 2)   # Вывод: \"Элемент: 3\", \"Попытка доступа завершена\"\n",
        "get_list_element(my_list, 10)  # Вывод: \"Индекс вне диапазона\", \"Попытка доступа завершена\"\n",
        "get_list_element(my_list, -2)\n",
        "get_list_element(my_list, 'dosp')"
      ]
    },
    {
      "cell_type": "markdown",
      "id": "b5bb39c7",
      "metadata": {
        "id": "b5bb39c7"
      },
      "source": [
        "---"
      ]
    },
    {
      "cell_type": "markdown",
      "id": "b0972d59",
      "metadata": {
        "id": "b0972d59"
      },
      "source": [
        "## **II. Работа с текстовыми файлами**"
      ]
    },
    {
      "cell_type": "markdown",
      "id": "35729435",
      "metadata": {
        "id": "35729435"
      },
      "source": [
        "### **Пункт №1. Запись в файл**"
      ]
    },
    {
      "cell_type": "markdown",
      "id": "3121365f",
      "metadata": {
        "id": "3121365f"
      },
      "source": [
        "Напишите программу, которая запрашивает у пользователя строку и записывает её в файл output.txt в режиме дозаписи.\n",
        "\n",
        "**ОБЯЗАТЕЛЬНО:**\n",
        "- Запросите у пользователя минимум 3 строки\n",
        "- Покажите содержимое файла после записи"
      ]
    },
    {
      "cell_type": "code",
      "execution_count": 43,
      "id": "cbce6c5f",
      "metadata": {
        "id": "cbce6c5f",
        "colab": {
          "base_uri": "https://localhost:8080/"
        },
        "outputId": "84767775-2a86-4264-d7e6-55f44a39c2d2"
      },
      "outputs": [
        {
          "output_type": "stream",
          "name": "stdout",
          "text": [
            "вздзав\n",
            "апздва\n",
            "важавж\n",
            "вабапва\n",
            "итог:\n",
            "вздзав\n",
            "апздва\n",
            "важавж\n",
            "вабапва\n"
          ]
        }
      ],
      "source": [
        "f = open('output.txt', 'a+')\n",
        "for i in range(4):\n",
        "  f.write(input() + '\\n')\n",
        "f.seek(0)\n",
        "print('итог:')\n",
        "for i in f.readlines(): print(i, end = '')\n",
        "f.close()\n",
        "with open('output.txt', \"w\") as f: pass"
      ]
    },
    {
      "cell_type": "markdown",
      "id": "361b3d2b",
      "metadata": {
        "id": "361b3d2b"
      },
      "source": [
        "---"
      ]
    },
    {
      "cell_type": "markdown",
      "id": "cce864b4",
      "metadata": {
        "id": "cce864b4"
      },
      "source": [
        "### **Пункт №2. Чтение из файла**"
      ]
    },
    {
      "cell_type": "markdown",
      "id": "4fc83b82",
      "metadata": {
        "id": "4fc83b82"
      },
      "source": [
        "Напишите программу, которая открывает файл output.txt и выводит его содержимое на экран.\n",
        "\n",
        "**ОБЯЗАТЕЛЬНО:**\n",
        "- Создайте файл с минимум 5 строками текста\n",
        "- Покажите содержимое файла целиком\n",
        "- Обработайте случай отсутствующего файла"
      ]
    },
    {
      "cell_type": "code",
      "execution_count": 45,
      "id": "df27a986",
      "metadata": {
        "id": "df27a986",
        "colab": {
          "base_uri": "https://localhost:8080/"
        },
        "outputId": "4a0bd10f-3d65-4709-d489-9733676574c7"
      },
      "outputs": [
        {
          "output_type": "stream",
          "name": "stdout",
          "text": [
            "павпа\n",
            "палвд\n",
            "апав\n",
            "ыпьлаь\n",
            "пваьлаь\n",
            "вльалв\n",
            "итог:\n",
            "павпа\n",
            "палвд\n",
            "апав\n",
            "ыпьлаь\n",
            "пваьлаь\n",
            "вльалв\n"
          ]
        }
      ],
      "source": [
        "try:\n",
        "  f = open('output.txt', 'a+')\n",
        "  for i in range(6):\n",
        "    f.write(input() + '\\n')\n",
        "  f.seek(0)\n",
        "  print('итог:')\n",
        "  for i in f.readlines(): print(i, end = '')\n",
        "  f.close()\n",
        "except FileNotFoundError:\n",
        "        print(\"Файл output.txt не найден!\")\n",
        "with open('output.txt', \"w\") as f: pass"
      ]
    },
    {
      "cell_type": "markdown",
      "id": "2be296a2",
      "metadata": {
        "id": "2be296a2"
      },
      "source": [
        "---"
      ]
    },
    {
      "cell_type": "markdown",
      "id": "045696ba",
      "metadata": {
        "id": "045696ba"
      },
      "source": [
        "### **Пункт №3. Подсчет строк в файле**"
      ]
    },
    {
      "cell_type": "markdown",
      "id": "570ac3e9",
      "metadata": {
        "id": "570ac3e9"
      },
      "source": [
        "Напишите программу, которая открывает файл output.txt и подсчитывает количество строк в нём.\n",
        "\n",
        "**ОБЯЗАТЕЛЬНО:**\n",
        "- Создайте тестовый файл с известным количеством строк (минимум 10)\n",
        "- Покажите первые 3 строки файла\n",
        "- Выведите общее количество строк\n",
        "- Выведите количество непустых строк"
      ]
    },
    {
      "cell_type": "code",
      "execution_count": 57,
      "id": "84aa205a",
      "metadata": {
        "id": "84aa205a",
        "colab": {
          "base_uri": "https://localhost:8080/"
        },
        "outputId": "d0ca06ab-46bb-4ed3-815b-963279a7d0b9"
      },
      "outputs": [
        {
          "output_type": "stream",
          "name": "stdout",
          "text": [
            "fbdkfgb\n",
            " \n",
            "fdgkdng\n",
            "fmgkdn\n",
            "fgdfng\n",
            "fgnlkdng\n",
            " \n",
            "fdn\n",
            "fkngkenr\n",
            "dfngkdn\n",
            "['fbdkfgb\\n', ' \\n', 'fdgkdng\\n']\n",
            "всего строк:  10\n",
            "8\n"
          ]
        }
      ],
      "source": [
        "try:\n",
        "  f = open('output.txt', 'a+')\n",
        "  for i in range(10):\n",
        "    f.write(input() + '\\n')\n",
        "  f.seek(0)\n",
        "  print(f.readlines()[:3:])\n",
        "  f.seek(0)\n",
        "  print('всего строк: ', len(f.readlines()))\n",
        "  f.seek(0)\n",
        "  non_empty = 0\n",
        "  with open('output.txt', 'r') as f:\n",
        "    for line in f:\n",
        "        if line.strip():\n",
        "            non_empty += 1\n",
        "  print('количество непустых строк:', non_empty)\n",
        "  f.close()\n",
        "except FileNotFoundError:\n",
        "    print(\"Файл output.txt не найден\")\n",
        "\n",
        "with open('output.txt', \"w\") as f: pass"
      ]
    },
    {
      "cell_type": "markdown",
      "id": "94c6dcb0",
      "metadata": {
        "id": "94c6dcb0"
      },
      "source": [
        "---"
      ]
    },
    {
      "cell_type": "markdown",
      "id": "56f2a74e",
      "metadata": {
        "id": "56f2a74e"
      },
      "source": [
        "### **Пункт №4. Копирование содержимого файла**"
      ]
    },
    {
      "cell_type": "markdown",
      "id": "ed736046",
      "metadata": {
        "id": "ed736046"
      },
      "source": [
        "Напишите программу, которая копирует содержимое файла input.txt в файл output.txt.\n",
        "\n",
        "**ОБЯЗАТЕЛЬНО:**\n",
        "- Создайте исходный файл с тестовым содержимым (минимум 5 строк)\n",
        "- Покажите содержимое исходного файла\n",
        "- Выполните копирование\n",
        "- Покажите содержимое скопированного файла\n",
        "- Обработайте случай отсутствия исходного файла"
      ]
    },
    {
      "cell_type": "code",
      "execution_count": 63,
      "id": "31bd8a06",
      "metadata": {
        "id": "31bd8a06",
        "colab": {
          "base_uri": "https://localhost:8080/"
        },
        "outputId": "7bc86b59-6403-4cc5-b30a-296e13132775"
      },
      "outputs": [
        {
          "output_type": "stream",
          "name": "stdout",
          "text": [
            "арова\n",
            "авпова\n",
            "ушш\n",
            "с мвла\n",
            "ктаута\n",
            "ывра\n",
            "введённый файл:\n",
            "арова\n",
            "авпова\n",
            "ушш\n",
            "с мвла\n",
            "ктаута\n",
            "ывра\n",
            "скопированный файл: \n",
            "арова\n",
            "авпова\n",
            "ушш\n",
            "с мвла\n",
            "ктаута\n",
            "ывра\n"
          ]
        }
      ],
      "source": [
        "try:\n",
        "  f = open('input.txt', 'a+')\n",
        "  for i in range(6):\n",
        "    f.write(input() + '\\n')\n",
        "  f.seek(0)\n",
        "  print('введённый файл:')\n",
        "  for i in f.readlines(): print(i, end = '')\n",
        "  f.close()\n",
        "  with open('input.txt', 'r') as file:\n",
        "    content = file.read()\n",
        "  f2 = open('output.txt', 'a+')\n",
        "  with open('output.txt', 'w') as output_file:\n",
        "    output_file.write(content)\n",
        "  print('скопированный файл: ')\n",
        "  for i in f2.readlines(): print(i, end = '')\n",
        "except FileNotFoundError:\n",
        "    print(\"Файл input.txt не найден\")\n",
        "\n",
        "\n",
        "with open('output.txt', \"w\") as f: pass\n",
        "with open('input.txt', \"w\") as f: pass"
      ]
    },
    {
      "cell_type": "markdown",
      "id": "2f7c8ee5",
      "metadata": {
        "id": "2f7c8ee5"
      },
      "source": [
        "---"
      ]
    },
    {
      "cell_type": "markdown",
      "id": "70ee398b",
      "metadata": {
        "id": "70ee398b"
      },
      "source": [
        "### **Пункт №5. Поиск слова в файле**"
      ]
    },
    {
      "cell_type": "markdown",
      "id": "c67f8987",
      "metadata": {
        "id": "c67f8987"
      },
      "source": [
        "Напишите программу, которая открывает файл output.txt и проверяет, содержится ли в нём слово, введённое пользователем.\n",
        "\n",
        "**ОБЯЗАТЕЛЬНО:**\n",
        "- Создайте файл с минимум 10 строками текста\n",
        "- Покажите содержимое файла\n",
        "- Протестируйте поиск минимум 5 различных слов\n",
        "- Выведите номера строк, где найдено слово\n",
        "- Покажите количество вхождений слова"
      ]
    },
    {
      "cell_type": "code",
      "source": [
        "with open('output.txt', 'w', encoding='utf-8') as f:\n",
        "    for i in range(10):\n",
        "        line = input(f\"Введите строку {i+1}: \")\n",
        "        f.write(line + '\\n')\n",
        "\n",
        "print(\"Содержимое файла:\")\n",
        "with open('output.txt', 'r', encoding='utf-8') as f:\n",
        "    content = f.read()\n",
        "    print(content)\n",
        "    lines = content.split('\\n')[:-1]\n",
        "\n",
        "for _ in range(5):\n",
        "    word = input(\"Введите слово для поиска: \")\n",
        "    found_lines = []\n",
        "\n",
        "    for i, line in enumerate(lines, 1):\n",
        "        if word.lower() in line.lower():\n",
        "            found_lines.append(i)\n",
        "    if word == 'стоп':\n",
        "      break\n",
        "    if found_lines:\n",
        "        print(f\"Найдено в строках: {found_lines}\")\n",
        "        print(f\"Количество вхождений: {len(found_lines)}\")\n",
        "    else:\n",
        "        print(\"Слово не найдено\")\n",
        "\n",
        ""
      ],
      "metadata": {
        "colab": {
          "base_uri": "https://localhost:8080/"
        },
        "id": "wW6I15nrLNLT",
        "outputId": "936ee421-3f3d-4e81-c993-3dd1967ecbd4"
      },
      "id": "wW6I15nrLNLT",
      "execution_count": 69,
      "outputs": [
        {
          "name": "stdout",
          "output_type": "stream",
          "text": [
            "Введите строку 1: яблоко\n",
            "Введите строку 2: банан\n",
            "Введите строку 3: груша\n",
            "Введите строку 4: апельсин\n",
            "Введите строку 5: персик\n",
            "Введите строку 6: черника\n",
            "Введите строку 7: лимон\n",
            "Введите строку 8: клубника\n",
            "Введите строку 9: малина\n",
            "Введите строку 10: манго\n",
            "Содержимое файла:\n",
            "яблоко\n",
            "банан\n",
            "груша\n",
            "апельсин\n",
            "персик\n",
            "черника\n",
            "лимон\n",
            "клубника\n",
            "малина\n",
            "манго\n",
            "\n",
            "Введите слово для поиска: манго\n",
            "Найдено в строках: [10]\n",
            "Количество вхождений: 1\n",
            "Введите слово для поиска: стоп\n"
          ]
        }
      ]
    },
    {
      "cell_type": "markdown",
      "id": "8d69c77a",
      "metadata": {
        "id": "8d69c77a"
      },
      "source": [
        "---"
      ]
    },
    {
      "cell_type": "markdown",
      "id": "0079e067",
      "metadata": {
        "id": "0079e067"
      },
      "source": [
        "### **Пункт №6. Чтение файла с обработкой FileNotFoundError**"
      ]
    },
    {
      "cell_type": "markdown",
      "id": "c3d27312",
      "metadata": {
        "id": "c3d27312"
      },
      "source": [
        "Напишите программу, которая запрашивает у пользователя имя файла и пытается открыть его. Если файла не существует, перехватите FileNotFoundError и выведите сообщение «Файл не найден!».\n",
        "\n",
        "**ОБЯЗАТЕЛЬНО:**\n",
        "- Протестируйте с существующим файлом\n",
        "- Протестируйте с несуществующим файлом\n",
        "- Покажите содержимое существующего файла"
      ]
    },
    {
      "cell_type": "code",
      "execution_count": 71,
      "id": "0c262bd2",
      "metadata": {
        "id": "0c262bd2",
        "colab": {
          "base_uri": "https://localhost:8080/"
        },
        "outputId": "d84f197a-fbbd-4aa8-9053-fac66c162cc3"
      },
      "outputs": [
        {
          "output_type": "stream",
          "name": "stdout",
          "text": [
            "output\n",
            "яблоко\n",
            "банан\n",
            "груша\n",
            "апельсин\n",
            "персик\n",
            "черника\n",
            "лимон\n",
            "клубника\n",
            "малина\n",
            "манго\n",
            "\n"
          ]
        }
      ],
      "source": [
        "name = input()\n",
        "try:\n",
        "  with open(f'{name}.txt', 'r', encoding='utf-8') as file:\n",
        "      lines = file.readlines()\n",
        "  with open(f'{name}.txt', 'r', encoding='utf-8') as file:\n",
        "      a = file.read()\n",
        "      print(a)\n",
        "except FileNotFoundError:\n",
        "    print(f\"Файл '{name}' не найден.\")"
      ]
    },
    {
      "cell_type": "code",
      "source": [
        "name = input()\n",
        "try:\n",
        "  with open(f'{name}.txt', 'r', encoding='utf-8') as file:\n",
        "      lines = file.readlines()\n",
        "  with open(f'{name}.txt', 'r', encoding='utf-8') as file:\n",
        "      a = file.read()\n",
        "      print(a)\n",
        "except FileNotFoundError:\n",
        "    print(f\"Файл '{name}' не найден.\")"
      ],
      "metadata": {
        "colab": {
          "base_uri": "https://localhost:8080/"
        },
        "id": "hbKFzQ8_OGgi",
        "outputId": "1fdc0057-7422-4ac0-a623-948e9dd53763"
      },
      "id": "hbKFzQ8_OGgi",
      "execution_count": 72,
      "outputs": [
        {
          "output_type": "stream",
          "name": "stdout",
          "text": [
            "chtoto\n",
            "Файл 'chtoto' не найден.\n"
          ]
        }
      ]
    },
    {
      "cell_type": "markdown",
      "id": "c3258b46",
      "metadata": {
        "id": "c3258b46"
      },
      "source": [
        "---"
      ]
    },
    {
      "cell_type": "markdown",
      "id": "02e0767b",
      "metadata": {
        "id": "02e0767b"
      },
      "source": [
        "### **Пункт №7. Подсчет статистики файла**"
      ]
    },
    {
      "cell_type": "markdown",
      "id": "1c33b711",
      "metadata": {
        "id": "1c33b711"
      },
      "source": [
        "Напишите функцию `file_statistics(filename)`, которая читает текстовый файл и возвращает словарь со статистикой:\n",
        "- Количество строк\n",
        "- Количество слов\n",
        "- Количество символов (с пробелами и без)\n",
        "\n",
        "**ОБЯЗАТЕЛЬНО:**\n",
        "- Создайте тестовый файл с минимум 5 строками текста\n",
        "- Выведите содержимое файла ДО обработки\n",
        "- Выведите полученную статистику\n",
        "- Обработайте случай несуществующего файла\n",
        "\n",
        "```python\n",
        "# Создание тестового файла\n",
        "test_content = \"\"\"Первая строка текста\n",
        "Вторая строка с большим количеством слов\n",
        "Третья строка\n",
        "Четвертая строка для теста\n",
        "Пятая и последняя строка\"\"\"\n",
        "\n",
        "# Сохраните в файл и продемонстрируйте работу\n",
        "```"
      ]
    },
    {
      "cell_type": "code",
      "source": [
        "def file_statistics(filename):\n",
        "  try:\n",
        "    with open(filename, 'r', encoding='utf-8') as f:\n",
        "      content = f.read()\n",
        "      lines = content.split('\\n')\n",
        "\n",
        "      stats = {\n",
        "            'lines': len(lines),\n",
        "            'words': len(content.split()),\n",
        "            'количество символов с пробелами': len(content),\n",
        "            'количество символов без пробелов': len(content.replace(' ', '').replace('\\n', ''))}\n",
        "      return stats\n",
        "\n",
        "  except FileNotFoundError:\n",
        "    return \"Файл не найден\"\n",
        "\n",
        "test_content = \"\"\"Первая строка текста\n",
        "Вторая строка с большим количеством слов\n",
        "Третья строка\n",
        "Четвертая строка для теста\n",
        "Пятая и последняя строка\"\"\"\n",
        "\n",
        "with open('test.txt', 'w', encoding='utf-8') as f:\n",
        "    f.write(test_content)\n",
        "\n",
        "print(\"Содержимое файла:\")\n",
        "with open('test.txt', 'r', encoding='utf-8') as f:\n",
        "    print(f.read())\n",
        "\n",
        "print(\"Статистика:\")\n",
        "stats = file_statistics('test.txt')\n",
        "print(stats)\n",
        "\n",
        "print(\"Проверка несуществующего файла:\")\n",
        "print(file_statistics('nonexistent.txt'))"
      ],
      "metadata": {
        "colab": {
          "base_uri": "https://localhost:8080/"
        },
        "id": "shdLg8djhfVu",
        "outputId": "63b33053-3ee3-4260-a4e3-643861665a8b"
      },
      "id": "shdLg8djhfVu",
      "execution_count": 74,
      "outputs": [
        {
          "output_type": "stream",
          "name": "stdout",
          "text": [
            "Содержимое файла:\n",
            "Первая строка текста\n",
            "Вторая строка с большим количеством слов\n",
            "Третья строка\n",
            "Четвертая строка для теста\n",
            "Пятая и последняя строка\n",
            "Статистика:\n",
            "{'lines': 5, 'words': 19, 'количество символов с пробелами': 127, 'количество символов без пробелов': 109}\n",
            "Проверка несуществующего файла:\n",
            "Файл не найден\n"
          ]
        }
      ]
    },
    {
      "cell_type": "markdown",
      "id": "903281dd",
      "metadata": {
        "id": "903281dd"
      },
      "source": [
        "---"
      ]
    },
    {
      "cell_type": "markdown",
      "id": "ad8b4ae4",
      "metadata": {
        "id": "ad8b4ae4"
      },
      "source": [
        "### **Пункт №8. Поиск и замена в файле**"
      ]
    },
    {
      "cell_type": "markdown",
      "id": "e5230d0a",
      "metadata": {
        "id": "e5230d0a"
      },
      "source": [
        "Напишите функцию `replace_in_file(filename, old_text, new_text)`, которая заменяет все вхождения `old_text` на `new_text` в файле и сохраняет результат в новый файл с префиксом \"modified_\".\n",
        "\n",
        "**ОБЯЗАТЕЛЬНО:**\n",
        "- Создайте файл с текстом, содержащим минимум 3 вхождения заменяемого слова\n",
        "- Выведите содержимое файла ДО замены\n",
        "- Выполните замену\n",
        "- Выведите содержимое файла ПОСЛЕ замены\n",
        "- Покажите количество произведенных замен"
      ]
    },
    {
      "cell_type": "code",
      "execution_count": 77,
      "id": "64a05e35",
      "metadata": {
        "id": "64a05e35",
        "colab": {
          "base_uri": "https://localhost:8080/"
        },
        "outputId": "172b2215-4b77-4900-b897-8c2d30f27bd8"
      },
      "outputs": [
        {
          "output_type": "stream",
          "name": "stdout",
          "text": [
            "до замены:\n",
            "яблоко классное наливное спелое\n",
            "после замены:\n",
            "апельсин классное наливное спелое\n",
            "количество замен: 1\n"
          ]
        }
      ],
      "source": [
        "def replace_in_file(filename, old_text, new_text):\n",
        "    with open(filename, 'r', encoding='utf-8') as f:\n",
        "        a = f.read()\n",
        "\n",
        "    zamena = a.replace(old_text, new_text)\n",
        "    count = a.count(old_text)\n",
        "\n",
        "    with open('modified_' + filename, 'w', encoding='utf-8') as f:\n",
        "        f.write(zamena)\n",
        "\n",
        "    return count\n",
        "\n",
        "with open('text.txt', 'w', encoding='utf-8') as f:\n",
        "    f.write(\"\"\"яблоко классное наливное спелое\"\"\")\n",
        "\n",
        "print(\"до замены:\")\n",
        "with open('text.txt', 'r', encoding='utf-8') as f:\n",
        "    print(f.read())\n",
        "\n",
        "old, new = \"яблоко\", \"апельсин\"\n",
        "count = replace_in_file('text.txt', old, new)\n",
        "\n",
        "print(\"после замены:\")\n",
        "with open('modified_text.txt', 'r', encoding='utf-8') as f:\n",
        "    print(f.read())\n",
        "\n",
        "print(f\"количество замен: {count}\")"
      ]
    },
    {
      "cell_type": "markdown",
      "id": "f77b0568",
      "metadata": {
        "id": "f77b0568"
      },
      "source": [
        "---"
      ]
    },
    {
      "cell_type": "markdown",
      "id": "79a081b1",
      "metadata": {
        "id": "79a081b1"
      },
      "source": [
        "### **Пункт №9. Объединение файлов**"
      ]
    },
    {
      "cell_type": "markdown",
      "id": "599cee3c",
      "metadata": {
        "id": "599cee3c"
      },
      "source": [
        "Создайте функцию `merge_files(file_list, output_file)`, которая объединяет содержимое нескольких текстовых файлов в один, добавляя после каждого разделитель.\n",
        "\n",
        "**ОБЯЗАТЕЛЬНО:**\n",
        "- Создайте минимум 3 файла с разным содержимым\n",
        "- Выведите содержимое КАЖДОГО исходного файла\n",
        "- Выполните объединение\n",
        "- Выведите содержимое результирующего файла"
      ]
    },
    {
      "cell_type": "code",
      "execution_count": 81,
      "id": "581b5868",
      "metadata": {
        "id": "581b5868",
        "colab": {
          "base_uri": "https://localhost:8080/"
        },
        "outputId": "226ef06b-c88c-4caf-83d3-eac27576bd80"
      },
      "outputs": [
        {
          "output_type": "stream",
          "name": "stdout",
          "text": [
            "Файл 1:\n",
            "\n",
            "Без труда не вытащишь рыбку из пруда\n",
            "\n",
            "Файл 2:\n",
            "\n",
            "Лучше синица в руках, чем журавль в небе\n",
            "\n",
            "Файл 3:\n",
            "\n",
            "Сытый голодному не товарищ\n",
            "\n",
            "результат:\n",
            "\n",
            "Без труда не вытащишь рыбку из пруда\n",
            "Лучше синица в руках, чем журавль в небе\n",
            "Сытый голодному не товарищ\n"
          ]
        }
      ],
      "source": [
        "def merge_files(file_list, output_file):\n",
        "    with open(output_file, 'w', encoding='utf-8') as out_f:\n",
        "        for filename in file_list:\n",
        "            with open(filename, 'r', encoding='utf-8') as in_f:\n",
        "                out_f.write(in_f.read())\n",
        "\n",
        "files = ['file1.txt', 'file2.txt', 'file3.txt']\n",
        "contents = [\n",
        "    \"\\nБез труда не вытащишь рыбку из пруда\",\n",
        "    \"\\nЛучше синица в руках, чем журавль в небе\",\n",
        "    \"\\nСытый голодному не товарищ\"\n",
        "]\n",
        "\n",
        "for i, (file, content) in enumerate(zip(files, contents)):\n",
        "    with open(file, 'w', encoding='utf-8') as f:\n",
        "        f.write(content)\n",
        "    print(f\"Файл {i+1}:\")\n",
        "    print(content + '\\n')\n",
        "\n",
        "merge_files(files, 'объединили.txt')\n",
        "\n",
        "# Показываем результат\n",
        "print(\"результат:\")\n",
        "with open('объединили.txt', 'r', encoding='utf-8') as f:\n",
        "    print(f.read())"
      ]
    },
    {
      "cell_type": "markdown",
      "id": "eb866091",
      "metadata": {
        "id": "eb866091"
      },
      "source": [
        "---"
      ]
    }
  ],
  "metadata": {
    "colab": {
      "provenance": [],
      "include_colab_link": true
    },
    "language_info": {
      "name": "python"
    },
    "kernelspec": {
      "name": "python3",
      "display_name": "Python 3"
    }
  },
  "nbformat": 4,
  "nbformat_minor": 5
}